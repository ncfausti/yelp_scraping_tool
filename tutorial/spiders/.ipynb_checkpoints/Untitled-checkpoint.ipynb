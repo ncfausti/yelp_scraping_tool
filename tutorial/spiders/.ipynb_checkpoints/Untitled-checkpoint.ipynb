{
 "cells": [
  {
   "cell_type": "code",
   "execution_count": 14,
   "metadata": {
    "collapsed": false
   },
   "outputs": [
    {
     "data": {
      "text/plain": [
       "['http://www.yelp.com/biz/childrens-hospital-of-philadelphia-philadelphia-2']"
      ]
     },
     "execution_count": 14,
     "metadata": {},
     "output_type": "execute_result"
    }
   ],
   "source": [
    "def get_page_urls(start_url, number_of_reviews):\n",
    "    \"\"\"\n",
    "    Takes in starting url, and number of reviews for the hospital\n",
    "    Returns list of paginated urls\n",
    "    \"\"\"\n",
    "    review_count = 0\n",
    "    urls = [start_url]\n",
    "    \n",
    "    while review_count <= number_of_reviews - 20:\n",
    "        review_count += 20\n",
    "        urls.append(\"%s&start=%d\" % (start_url, review_count))    \n",
    "    return urls\n",
    "\n",
    "#get_page_urls(\"http://www.yelp.com/biz/childrens-hospital-of-philadelphia-philadelphia-2\", 0)\n",
    "#get_page_urls(\"http://www.yelp.com/biz/childrens-hospital-of-philadelphia-philadelphia-2\", 1)\n",
    "#get_page_urls(\"http://www.yelp.com/biz/childrens-hospital-of-philadelphia-philadelphia-2\", 33)\n",
    "#get_page_urls(\"http://www.yelp.com/biz/childrens-hospital-of-philadelphia-philadelphia-2\", 40)\n",
    "#get_page_urls(\"http://www.yelp.com/biz/childrens-hospital-of-philadelphia-philadelphia-2\", 39)\n",
    "#get_page_urls(\"http://www.yelp.com/biz/childrens-hospital-of-philadelphia-philadelphia-2\", 41)\n"
   ]
  },
  {
   "cell_type": "code",
   "execution_count": null,
   "metadata": {
    "collapsed": true
   },
   "outputs": [],
   "source": []
  }
 ],
 "metadata": {
  "kernelspec": {
   "display_name": "Python 2",
   "language": "python",
   "name": "python2"
  },
  "language_info": {
   "codemirror_mode": {
    "name": "ipython",
    "version": 2
   },
   "file_extension": ".py",
   "mimetype": "text/x-python",
   "name": "python",
   "nbconvert_exporter": "python",
   "pygments_lexer": "ipython2",
   "version": "2.7.6"
  }
 },
 "nbformat": 4,
 "nbformat_minor": 0
}
