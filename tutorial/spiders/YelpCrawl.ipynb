{
 "cells": [
  {
   "cell_type": "code",
   "execution_count": 51,
   "metadata": {
    "collapsed": false
   },
   "outputs": [
    {
     "data": {
      "text/plain": [
       "'\\nwith open(sys.argv[1],\\'r\\') as reader:\\n    for line in reader:\\n        args = line.split(\\',\\')\\n        name,address = args[0],args[1].rstrip()\\n        params = {\\n                    \\'term\\':name,\\n                    \\'location\\':address,\\n                    \\'category_filter\\':\\'hospitals,medcenters\\'\\n        }\\n        print \"Trying %s : %s\" % (name,address)\\n        \\n        #json response\\n        response = client.search(**params)\\n        b = {}\\n\\n        if response.businesses:\\n            b = response.businesses[0].__dict__\\n            #header = True\\n            with open(\\'yelp_business_data.csv\\', \\'a\\') as f:\\n            #    if header:\\n            #        f.write(\"id,name,url,phone,review_count,rating,snippet_text,address,city,state,postal,country_code,cross_streets\\n\")\\n            #        header = False   \\n                f.write(\"%s,%s,%s,%s,%s,%s,%s,%s,%s,%s,%s,%s,%s\\n\" % (\\n                        b[\\'id\\'],\\n                        b[\\'name\\'],\\n                        b[\\'url\\'],\\n                        b[\\'phone\\'],\\n                        b[\\'review_count\\'],\\n                        b[\\'rating\\'],\\n                        b[\\'snippet_text\\'],\\n                        \\' \\'.join(map(str, b[\\'location\\'].address)), # Combine list into single string, converting numbers to strings\\n                        b[\\'location\\'].city,\\n                        b[\\'location\\'].state_code,\\n                        b[\\'location\\'].postal_code,\\n                        b[\\'location\\'].country_code,\\n                        b[\\'location\\'].cross_streets)\\n                       )\\n'"
      ]
     },
     "execution_count": 51,
     "metadata": {},
     "output_type": "execute_result"
    }
   ],
   "source": [
    "import sys\n",
    "from yelp.client import Client\n",
    "from yelp.oauth1_authenticator import Oauth1Authenticator\n",
    "\n",
    "auth = Oauth1Authenticator(\n",
    "    consumer_key='JDVlrf6zzfV3c5p8C4MDOQ',\n",
    "    consumer_secret='JvWdQ-CykR5lm0Qp3g1RRJiHRhA',\n",
    "    token='NIBYuLjXR_QQLbciG5w5kE6mlUA4wApE',\n",
    "    token_secret='dzztrQs_UUghvPaky6Q8Sm9m0sk'\n",
    ")\n",
    "\n",
    "params = {\n",
    "            'term':\"CHILDREN'S HOSPITAL OF PHILADELPHIA\",\n",
    "            'location':'34TH ST & CIVIC CENTER BLVD PHILADELPHIA PA',\n",
    "            'category_filter':'hospitals,medcenters'\n",
    "}\n",
    "\n",
    "client = Client(auth)\n",
    "response = client.search(**params)\n",
    "\"\"\"\n",
    "with open(sys.argv[1],'r') as reader:\n",
    "    for line in reader:\n",
    "        args = line.split(',')\n",
    "        name,address = args[0],args[1].rstrip()\n",
    "        params = {\n",
    "                    'term':name,\n",
    "                    'location':address,\n",
    "                    'category_filter':'hospitals,medcenters'\n",
    "        }\n",
    "        print \"Trying %s : %s\" % (name,address)\n",
    "        \n",
    "        #json response\n",
    "        response = client.search(**params)\n",
    "        b = {}\n",
    "\n",
    "        if response.businesses:\n",
    "            b = response.businesses[0].__dict__\n",
    "            #header = True\n",
    "            with open('yelp_business_data.csv', 'a') as f:\n",
    "            #    if header:\n",
    "            #        f.write(\"id,name,url,phone,review_count,rating,snippet_text,address,city,state,postal,country_code,cross_streets\\n\")\n",
    "            #        header = False   \n",
    "                f.write(\"%s,%s,%s,%s,%s,%s,%s,%s,%s,%s,%s,%s,%s\\n\" % (\n",
    "                        b['id'],\n",
    "                        b['name'],\n",
    "                        b['url'],\n",
    "                        b['phone'],\n",
    "                        b['review_count'],\n",
    "                        b['rating'],\n",
    "                        b['snippet_text'],\n",
    "                        ' '.join(map(str, b['location'].address)), # Combine list into single string, converting numbers to strings\n",
    "                        b['location'].city,\n",
    "                        b['location'].state_code,\n",
    "                        b['location'].postal_code,\n",
    "                        b['location'].country_code,\n",
    "                        b['location'].cross_streets)\n",
    "                       )\n",
    "\"\"\""
   ]
  },
  {
   "cell_type": "code",
   "execution_count": 55,
   "metadata": {
    "collapsed": false
   },
   "outputs": [
    {
     "data": {
      "text/plain": [
       "u'http://www.yelp.com/biz/childrens-hospital-of-philadelphia-philadelphia-2?utm_campaign=yelp_api&utm_medium=api_v2_search&utm_source=JDVlrf6zzfV3c5p8C4MDOQ'"
      ]
     },
     "execution_count": 55,
     "metadata": {},
     "output_type": "execute_result"
    }
   ],
   "source": [
    "response.businesses[0].url"
   ]
  },
  {
   "cell_type": "code",
   "execution_count": null,
   "metadata": {
    "collapsed": true
   },
   "outputs": [],
   "source": []
  }
 ],
 "metadata": {
  "anaconda-cloud": {},
  "kernelspec": {
   "display_name": "Python [default]",
   "language": "python",
   "name": "python3"
  },
  "language_info": {
   "codemirror_mode": {
    "name": "ipython",
    "version": 3
   },
   "file_extension": ".py",
   "mimetype": "text/x-python",
   "name": "python",
   "nbconvert_exporter": "python",
   "pygments_lexer": "ipython3",
   "version": "3.5.2"
  }
 },
 "nbformat": 4,
 "nbformat_minor": 0
}
